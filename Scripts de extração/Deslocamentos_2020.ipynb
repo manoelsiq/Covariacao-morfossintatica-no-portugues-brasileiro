{
  "cells": [
    {
      "cell_type": "markdown",
      "metadata": {
        "id": "Z2qIxtlC5V2r"
      },
      "source": [
        "# 1. Montar o Google Drive\n",
        "Neste momento, precisamos ligar o Drive ao Notebook, de modo com que possamos acessar os arquivos do Drive aqui. Ao executar a função, uma janela será aberta para que você acesse a conta Google na qual você está usando o Google Colab, que é a mesma a qual você utilizará o Drive."
      ]
    },
    {
      "cell_type": "code",
      "execution_count": null,
      "metadata": {
        "id": "YxbpvJPb4FdD",
        "colab": {
          "base_uri": "https://localhost:8080/"
        },
        "outputId": "90a3170c-abee-4aeb-9ee2-38306a2db20d"
      },
      "outputs": [
        {
          "output_type": "stream",
          "name": "stdout",
          "text": [
            "Mounted at /content/drive\n"
          ]
        }
      ],
      "source": [
        "from google.colab import drive\n",
        "drive.mount('/content/drive')"
      ]
    },
    {
      "cell_type": "markdown",
      "metadata": {
        "id": "1LmSRA1UjqAg"
      },
      "source": [
        "# 2. Instalar as bibliotecas\n",
        "Neste momento, são instaladas e importadas todas as bibliotecas e componentes necessários para funcionamento dos códigos."
      ]
    },
    {
      "cell_type": "code",
      "execution_count": null,
      "metadata": {
        "id": "o5FkjndkjsYN",
        "colab": {
          "base_uri": "https://localhost:8080/"
        },
        "outputId": "55901fb7-d254-41f2-88cc-a37398728942"
      },
      "outputs": [
        {
          "output_type": "stream",
          "name": "stdout",
          "text": [
            "Requirement already satisfied: spacy in /usr/local/lib/python3.10/dist-packages (3.6.1)\n",
            "Collecting spacy\n",
            "  Downloading spacy-3.7.2-cp310-cp310-manylinux_2_17_x86_64.manylinux2014_x86_64.whl (6.6 MB)\n",
            "\u001b[2K     \u001b[90m━━━━━━━━━━━━━━━━━━━━━━━━━━━━━━━━━━━━━━━━\u001b[0m \u001b[32m6.6/6.6 MB\u001b[0m \u001b[31m41.6 MB/s\u001b[0m eta \u001b[36m0:00:00\u001b[0m\n",
            "\u001b[?25hRequirement already satisfied: spacy-legacy<3.1.0,>=3.0.11 in /usr/local/lib/python3.10/dist-packages (from spacy) (3.0.12)\n",
            "Requirement already satisfied: spacy-loggers<2.0.0,>=1.0.0 in /usr/local/lib/python3.10/dist-packages (from spacy) (1.0.5)\n",
            "Requirement already satisfied: murmurhash<1.1.0,>=0.28.0 in /usr/local/lib/python3.10/dist-packages (from spacy) (1.0.10)\n",
            "Requirement already satisfied: cymem<2.1.0,>=2.0.2 in /usr/local/lib/python3.10/dist-packages (from spacy) (2.0.8)\n",
            "Requirement already satisfied: preshed<3.1.0,>=3.0.2 in /usr/local/lib/python3.10/dist-packages (from spacy) (3.0.9)\n",
            "Requirement already satisfied: thinc<8.3.0,>=8.1.8 in /usr/local/lib/python3.10/dist-packages (from spacy) (8.1.12)\n",
            "Requirement already satisfied: wasabi<1.2.0,>=0.9.1 in /usr/local/lib/python3.10/dist-packages (from spacy) (1.1.2)\n",
            "Requirement already satisfied: srsly<3.0.0,>=2.4.3 in /usr/local/lib/python3.10/dist-packages (from spacy) (2.4.8)\n",
            "Requirement already satisfied: catalogue<2.1.0,>=2.0.6 in /usr/local/lib/python3.10/dist-packages (from spacy) (2.0.10)\n",
            "Collecting weasel<0.4.0,>=0.1.0 (from spacy)\n",
            "  Downloading weasel-0.3.4-py3-none-any.whl (50 kB)\n",
            "\u001b[2K     \u001b[90m━━━━━━━━━━━━━━━━━━━━━━━━━━━━━━━━━━━━━━━━\u001b[0m \u001b[32m50.1/50.1 kB\u001b[0m \u001b[31m8.2 MB/s\u001b[0m eta \u001b[36m0:00:00\u001b[0m\n",
            "\u001b[?25hRequirement already satisfied: typer<0.10.0,>=0.3.0 in /usr/local/lib/python3.10/dist-packages (from spacy) (0.9.0)\n",
            "Requirement already satisfied: smart-open<7.0.0,>=5.2.1 in /usr/local/lib/python3.10/dist-packages (from spacy) (6.4.0)\n",
            "Requirement already satisfied: tqdm<5.0.0,>=4.38.0 in /usr/local/lib/python3.10/dist-packages (from spacy) (4.66.1)\n",
            "Requirement already satisfied: requests<3.0.0,>=2.13.0 in /usr/local/lib/python3.10/dist-packages (from spacy) (2.31.0)\n",
            "Requirement already satisfied: pydantic!=1.8,!=1.8.1,<3.0.0,>=1.7.4 in /usr/local/lib/python3.10/dist-packages (from spacy) (1.10.13)\n",
            "Requirement already satisfied: jinja2 in /usr/local/lib/python3.10/dist-packages (from spacy) (3.1.2)\n",
            "Requirement already satisfied: setuptools in /usr/local/lib/python3.10/dist-packages (from spacy) (67.7.2)\n",
            "Requirement already satisfied: packaging>=20.0 in /usr/local/lib/python3.10/dist-packages (from spacy) (23.2)\n",
            "Requirement already satisfied: langcodes<4.0.0,>=3.2.0 in /usr/local/lib/python3.10/dist-packages (from spacy) (3.3.0)\n",
            "Requirement already satisfied: numpy>=1.19.0 in /usr/local/lib/python3.10/dist-packages (from spacy) (1.23.5)\n",
            "Requirement already satisfied: typing-extensions>=4.2.0 in /usr/local/lib/python3.10/dist-packages (from pydantic!=1.8,!=1.8.1,<3.0.0,>=1.7.4->spacy) (4.5.0)\n",
            "Requirement already satisfied: charset-normalizer<4,>=2 in /usr/local/lib/python3.10/dist-packages (from requests<3.0.0,>=2.13.0->spacy) (3.3.2)\n",
            "Requirement already satisfied: idna<4,>=2.5 in /usr/local/lib/python3.10/dist-packages (from requests<3.0.0,>=2.13.0->spacy) (3.6)\n",
            "Requirement already satisfied: urllib3<3,>=1.21.1 in /usr/local/lib/python3.10/dist-packages (from requests<3.0.0,>=2.13.0->spacy) (2.0.7)\n",
            "Requirement already satisfied: certifi>=2017.4.17 in /usr/local/lib/python3.10/dist-packages (from requests<3.0.0,>=2.13.0->spacy) (2023.11.17)\n",
            "Requirement already satisfied: blis<0.8.0,>=0.7.8 in /usr/local/lib/python3.10/dist-packages (from thinc<8.3.0,>=8.1.8->spacy) (0.7.11)\n",
            "Requirement already satisfied: confection<1.0.0,>=0.0.1 in /usr/local/lib/python3.10/dist-packages (from thinc<8.3.0,>=8.1.8->spacy) (0.1.4)\n",
            "Requirement already satisfied: click<9.0.0,>=7.1.1 in /usr/local/lib/python3.10/dist-packages (from typer<0.10.0,>=0.3.0->spacy) (8.1.7)\n",
            "Collecting cloudpathlib<0.17.0,>=0.7.0 (from weasel<0.4.0,>=0.1.0->spacy)\n",
            "  Downloading cloudpathlib-0.16.0-py3-none-any.whl (45 kB)\n",
            "\u001b[2K     \u001b[90m━━━━━━━━━━━━━━━━━━━━━━━━━━━━━━━━━━━━━━━━\u001b[0m \u001b[32m45.0/45.0 kB\u001b[0m \u001b[31m6.1 MB/s\u001b[0m eta \u001b[36m0:00:00\u001b[0m\n",
            "\u001b[?25hRequirement already satisfied: MarkupSafe>=2.0 in /usr/local/lib/python3.10/dist-packages (from jinja2->spacy) (2.1.3)\n",
            "Installing collected packages: cloudpathlib, weasel, spacy\n",
            "  Attempting uninstall: spacy\n",
            "    Found existing installation: spacy 3.6.1\n",
            "    Uninstalling spacy-3.6.1:\n",
            "      Successfully uninstalled spacy-3.6.1\n",
            "\u001b[31mERROR: pip's dependency resolver does not currently take into account all the packages that are installed. This behaviour is the source of the following dependency conflicts.\n",
            "en-core-web-sm 3.6.0 requires spacy<3.7.0,>=3.6.0, but you have spacy 3.7.2 which is incompatible.\u001b[0m\u001b[31m\n",
            "\u001b[0mSuccessfully installed cloudpathlib-0.16.0 spacy-3.7.2 weasel-0.3.4\n",
            "Collecting spacy-lookups-data\n",
            "  Downloading spacy_lookups_data-1.0.5-py2.py3-none-any.whl (98.5 MB)\n",
            "\u001b[2K     \u001b[90m━━━━━━━━━━━━━━━━━━━━━━━━━━━━━━━━━━━━━━━━\u001b[0m \u001b[32m98.5/98.5 MB\u001b[0m \u001b[31m9.2 MB/s\u001b[0m eta \u001b[36m0:00:00\u001b[0m\n",
            "\u001b[?25hRequirement already satisfied: setuptools in /usr/local/lib/python3.10/dist-packages (from spacy-lookups-data) (67.7.2)\n",
            "Installing collected packages: spacy-lookups-data\n",
            "Successfully installed spacy-lookups-data-1.0.5\n",
            "2024-01-04 12:12:57.587652: E external/local_xla/xla/stream_executor/cuda/cuda_dnn.cc:9261] Unable to register cuDNN factory: Attempting to register factory for plugin cuDNN when one has already been registered\n",
            "2024-01-04 12:12:57.587721: E external/local_xla/xla/stream_executor/cuda/cuda_fft.cc:607] Unable to register cuFFT factory: Attempting to register factory for plugin cuFFT when one has already been registered\n",
            "2024-01-04 12:12:57.589164: E external/local_xla/xla/stream_executor/cuda/cuda_blas.cc:1515] Unable to register cuBLAS factory: Attempting to register factory for plugin cuBLAS when one has already been registered\n",
            "2024-01-04 12:12:57.603222: I tensorflow/core/platform/cpu_feature_guard.cc:182] This TensorFlow binary is optimized to use available CPU instructions in performance-critical operations.\n",
            "To enable the following instructions: AVX2 FMA, in other operations, rebuild TensorFlow with the appropriate compiler flags.\n",
            "2024-01-04 12:12:58.890280: W tensorflow/compiler/tf2tensorrt/utils/py_utils.cc:38] TF-TRT Warning: Could not find TensorRT\n",
            "Collecting pt-core-news-lg==3.7.0\n",
            "  Downloading https://github.com/explosion/spacy-models/releases/download/pt_core_news_lg-3.7.0/pt_core_news_lg-3.7.0-py3-none-any.whl (568.2 MB)\n",
            "\u001b[2K     \u001b[90m━━━━━━━━━━━━━━━━━━━━━━━━━━━━━━━━━━━━━━━━\u001b[0m \u001b[32m568.2/568.2 MB\u001b[0m \u001b[31m2.7 MB/s\u001b[0m eta \u001b[36m0:00:00\u001b[0m\n",
            "\u001b[?25hRequirement already satisfied: spacy<3.8.0,>=3.7.0 in /usr/local/lib/python3.10/dist-packages (from pt-core-news-lg==3.7.0) (3.7.2)\n",
            "Requirement already satisfied: spacy-legacy<3.1.0,>=3.0.11 in /usr/local/lib/python3.10/dist-packages (from spacy<3.8.0,>=3.7.0->pt-core-news-lg==3.7.0) (3.0.12)\n",
            "Requirement already satisfied: spacy-loggers<2.0.0,>=1.0.0 in /usr/local/lib/python3.10/dist-packages (from spacy<3.8.0,>=3.7.0->pt-core-news-lg==3.7.0) (1.0.5)\n",
            "Requirement already satisfied: murmurhash<1.1.0,>=0.28.0 in /usr/local/lib/python3.10/dist-packages (from spacy<3.8.0,>=3.7.0->pt-core-news-lg==3.7.0) (1.0.10)\n",
            "Requirement already satisfied: cymem<2.1.0,>=2.0.2 in /usr/local/lib/python3.10/dist-packages (from spacy<3.8.0,>=3.7.0->pt-core-news-lg==3.7.0) (2.0.8)\n",
            "Requirement already satisfied: preshed<3.1.0,>=3.0.2 in /usr/local/lib/python3.10/dist-packages (from spacy<3.8.0,>=3.7.0->pt-core-news-lg==3.7.0) (3.0.9)\n",
            "Requirement already satisfied: thinc<8.3.0,>=8.1.8 in /usr/local/lib/python3.10/dist-packages (from spacy<3.8.0,>=3.7.0->pt-core-news-lg==3.7.0) (8.1.12)\n",
            "Requirement already satisfied: wasabi<1.2.0,>=0.9.1 in /usr/local/lib/python3.10/dist-packages (from spacy<3.8.0,>=3.7.0->pt-core-news-lg==3.7.0) (1.1.2)\n",
            "Requirement already satisfied: srsly<3.0.0,>=2.4.3 in /usr/local/lib/python3.10/dist-packages (from spacy<3.8.0,>=3.7.0->pt-core-news-lg==3.7.0) (2.4.8)\n",
            "Requirement already satisfied: catalogue<2.1.0,>=2.0.6 in /usr/local/lib/python3.10/dist-packages (from spacy<3.8.0,>=3.7.0->pt-core-news-lg==3.7.0) (2.0.10)\n",
            "Requirement already satisfied: weasel<0.4.0,>=0.1.0 in /usr/local/lib/python3.10/dist-packages (from spacy<3.8.0,>=3.7.0->pt-core-news-lg==3.7.0) (0.3.4)\n",
            "Requirement already satisfied: typer<0.10.0,>=0.3.0 in /usr/local/lib/python3.10/dist-packages (from spacy<3.8.0,>=3.7.0->pt-core-news-lg==3.7.0) (0.9.0)\n",
            "Requirement already satisfied: smart-open<7.0.0,>=5.2.1 in /usr/local/lib/python3.10/dist-packages (from spacy<3.8.0,>=3.7.0->pt-core-news-lg==3.7.0) (6.4.0)\n",
            "Requirement already satisfied: tqdm<5.0.0,>=4.38.0 in /usr/local/lib/python3.10/dist-packages (from spacy<3.8.0,>=3.7.0->pt-core-news-lg==3.7.0) (4.66.1)\n",
            "Requirement already satisfied: requests<3.0.0,>=2.13.0 in /usr/local/lib/python3.10/dist-packages (from spacy<3.8.0,>=3.7.0->pt-core-news-lg==3.7.0) (2.31.0)\n",
            "Requirement already satisfied: pydantic!=1.8,!=1.8.1,<3.0.0,>=1.7.4 in /usr/local/lib/python3.10/dist-packages (from spacy<3.8.0,>=3.7.0->pt-core-news-lg==3.7.0) (1.10.13)\n",
            "Requirement already satisfied: jinja2 in /usr/local/lib/python3.10/dist-packages (from spacy<3.8.0,>=3.7.0->pt-core-news-lg==3.7.0) (3.1.2)\n",
            "Requirement already satisfied: setuptools in /usr/local/lib/python3.10/dist-packages (from spacy<3.8.0,>=3.7.0->pt-core-news-lg==3.7.0) (67.7.2)\n",
            "Requirement already satisfied: packaging>=20.0 in /usr/local/lib/python3.10/dist-packages (from spacy<3.8.0,>=3.7.0->pt-core-news-lg==3.7.0) (23.2)\n",
            "Requirement already satisfied: langcodes<4.0.0,>=3.2.0 in /usr/local/lib/python3.10/dist-packages (from spacy<3.8.0,>=3.7.0->pt-core-news-lg==3.7.0) (3.3.0)\n",
            "Requirement already satisfied: numpy>=1.19.0 in /usr/local/lib/python3.10/dist-packages (from spacy<3.8.0,>=3.7.0->pt-core-news-lg==3.7.0) (1.23.5)\n",
            "Requirement already satisfied: typing-extensions>=4.2.0 in /usr/local/lib/python3.10/dist-packages (from pydantic!=1.8,!=1.8.1,<3.0.0,>=1.7.4->spacy<3.8.0,>=3.7.0->pt-core-news-lg==3.7.0) (4.5.0)\n",
            "Requirement already satisfied: charset-normalizer<4,>=2 in /usr/local/lib/python3.10/dist-packages (from requests<3.0.0,>=2.13.0->spacy<3.8.0,>=3.7.0->pt-core-news-lg==3.7.0) (3.3.2)\n",
            "Requirement already satisfied: idna<4,>=2.5 in /usr/local/lib/python3.10/dist-packages (from requests<3.0.0,>=2.13.0->spacy<3.8.0,>=3.7.0->pt-core-news-lg==3.7.0) (3.6)\n",
            "Requirement already satisfied: urllib3<3,>=1.21.1 in /usr/local/lib/python3.10/dist-packages (from requests<3.0.0,>=2.13.0->spacy<3.8.0,>=3.7.0->pt-core-news-lg==3.7.0) (2.0.7)\n",
            "Requirement already satisfied: certifi>=2017.4.17 in /usr/local/lib/python3.10/dist-packages (from requests<3.0.0,>=2.13.0->spacy<3.8.0,>=3.7.0->pt-core-news-lg==3.7.0) (2023.11.17)\n",
            "Requirement already satisfied: blis<0.8.0,>=0.7.8 in /usr/local/lib/python3.10/dist-packages (from thinc<8.3.0,>=8.1.8->spacy<3.8.0,>=3.7.0->pt-core-news-lg==3.7.0) (0.7.11)\n",
            "Requirement already satisfied: confection<1.0.0,>=0.0.1 in /usr/local/lib/python3.10/dist-packages (from thinc<8.3.0,>=8.1.8->spacy<3.8.0,>=3.7.0->pt-core-news-lg==3.7.0) (0.1.4)\n",
            "Requirement already satisfied: click<9.0.0,>=7.1.1 in /usr/local/lib/python3.10/dist-packages (from typer<0.10.0,>=0.3.0->spacy<3.8.0,>=3.7.0->pt-core-news-lg==3.7.0) (8.1.7)\n",
            "Requirement already satisfied: cloudpathlib<0.17.0,>=0.7.0 in /usr/local/lib/python3.10/dist-packages (from weasel<0.4.0,>=0.1.0->spacy<3.8.0,>=3.7.0->pt-core-news-lg==3.7.0) (0.16.0)\n",
            "Requirement already satisfied: MarkupSafe>=2.0 in /usr/local/lib/python3.10/dist-packages (from jinja2->spacy<3.8.0,>=3.7.0->pt-core-news-lg==3.7.0) (2.1.3)\n",
            "Installing collected packages: pt-core-news-lg\n",
            "Successfully installed pt-core-news-lg-3.7.0\n",
            "\u001b[38;5;2m✔ Download and installation successful\u001b[0m\n",
            "You can now load the package via spacy.load('pt_core_news_lg')\n",
            "Requirement already satisfied: pandas in /usr/local/lib/python3.10/dist-packages (1.5.3)\n",
            "Requirement already satisfied: python-dateutil>=2.8.1 in /usr/local/lib/python3.10/dist-packages (from pandas) (2.8.2)\n",
            "Requirement already satisfied: pytz>=2020.1 in /usr/local/lib/python3.10/dist-packages (from pandas) (2023.3.post1)\n",
            "Requirement already satisfied: numpy>=1.21.0 in /usr/local/lib/python3.10/dist-packages (from pandas) (1.23.5)\n",
            "Requirement already satisfied: six>=1.5 in /usr/local/lib/python3.10/dist-packages (from python-dateutil>=2.8.1->pandas) (1.16.0)\n",
            "Requirement already satisfied: wasabi in /usr/local/lib/python3.10/dist-packages (1.1.2)\n"
          ]
        }
      ],
      "source": [
        "!pip install -U spacy\n",
        "\n",
        "!pip install -U spacy-lookups-data\n",
        "\n",
        "!python -m spacy download pt_core_news_lg\n",
        "\n",
        "!pip install pandas\n",
        "\n",
        "!pip install wasabi"
      ]
    },
    {
      "cell_type": "code",
      "execution_count": null,
      "metadata": {
        "id": "obP500rcr9dp"
      },
      "outputs": [],
      "source": [
        "import spacy\n",
        "nlp = spacy.load('pt_core_news_lg')"
      ]
    },
    {
      "cell_type": "markdown",
      "metadata": {
        "id": "1ygsElQJ5rmF"
      },
      "source": [
        "# 3. Carregar os arquivos .txt do Google Drive\n",
        "Para tanto, é necessário:\n",
        "- Criar uma pasta no Google Drive contendo os arquivos .txt que você deseja processar.\n",
        "- Determinar o caminho para a pasta no Google Drive. Por exemplo, se a pasta estiver localizada em \"Meu Drive/Minha Pasta\", o caminho será \"/content/drive/MyDrive/Minha Pasta\".\n",
        "- Execute o seguinte código para carregar os arquivos .txt."
      ]
    },
    {
      "cell_type": "code",
      "execution_count": null,
      "metadata": {
        "id": "FXV_yzJzUAej"
      },
      "outputs": [],
      "source": [
        "nomes_arq = !ls '/content/drive/MyDrive/Deslocamentos2020/'"
      ]
    },
    {
      "cell_type": "markdown",
      "metadata": {
        "id": "9ZQHYNtveZxB"
      },
      "source": [
        "# 4. Extração de informação dos arquivos\n",
        "O seguinte código é utilizado para a extração de informações presentes na própria entrevista, como nome do arquivo, que é o que desejamos, uma vez que o nome possui informações sobre o falante (gênero, idade, deslocamento e tempo no curso) e sobre a amostra (São Cristóvão 2019, São Cristóvão 2020 ou Itabaiana)."
      ]
    },
    {
      "cell_type": "markdown",
      "metadata": {
        "id": "75g1SGAKnBO0"
      },
      "source": [
        "Código para extrair informações dos nomes das entrevistas"
      ]
    },
    {
      "cell_type": "code",
      "execution_count": null,
      "metadata": {
        "id": "YCZenVZInJ82"
      },
      "outputs": [],
      "source": [
        "def extrai_num_ent(nome_arquivo):\n",
        "    num_ent = nome_arquivo[0:65]\n",
        "    return num_ent"
      ]
    },
    {
      "cell_type": "markdown",
      "metadata": {
        "id": "_rzRtV_5e7Kw"
      },
      "source": [
        "# 5. Extração dos fenômenos\n",
        "A partir daqui, lidamos com a extração das ocorrências dos fenômenos, cada um dos fenômenos isoladamente. Para tanto, esta seção apresenta:\n",
        "- Código de busca e classificação\n",
        "- Armazenamento dos resultados em arquivo .xlsx"
      ]
    },
    {
      "cell_type": "markdown",
      "metadata": {
        "id": "8DX_AjPE2VCO"
      },
      "source": [
        "## 5.1 Determinantes possessivos antecedendo nomes"
      ]
    },
    {
      "cell_type": "code",
      "execution_count": null,
      "metadata": {
        "id": "ysSAXqVEzRNd",
        "colab": {
          "base_uri": "https://localhost:8080/"
        },
        "outputId": "3475a579-eca3-41cf-b664-00533a1e3c7e"
      },
      "outputs": [
        {
          "output_type": "stream",
          "name": "stderr",
          "text": [
            "/usr/local/lib/python3.10/dist-packages/pandas/util/_decorators.py:211: FutureWarning: the 'encoding' keyword is deprecated and will be removed in a future version. Please take steps to stop the use of 'encoding'\n",
            "  return func(*args, **kwargs)\n"
          ]
        }
      ],
      "source": [
        "import spacy\n",
        "from spacy.matcher import Matcher\n",
        "from wasabi import Printer\n",
        "import pandas as pd\n",
        "\n",
        "colunas = ['Numero_ent', 'Contexto anterior', 'Ocorrencia','Contexto Seguinte', 'Contexto']\n",
        "linhas = []\n",
        "\n",
        "nlp = spacy.load('pt_core_news_lg')\n",
        "\n",
        "nomes_arq = !ls '/content/drive/MyDrive/Deslocamentos2020'\n",
        "\n",
        "for nome in nomes_arq:\n",
        "  nome_refatorado = nome.replace(\"'\", \"\").strip()\n",
        "  arq =f'/content/drive/MyDrive/Deslocamentos2020/{nome_refatorado}'\n",
        "  corpus = open(arq).read()\n",
        "  doc = nlp(corpus)\n",
        "  numero_ent = extrai_num_ent(nome)\n",
        "\n",
        "  matcher = Matcher(vocab=nlp.vocab)\n",
        "  detso = [{'LEMMA': {'NOT_IN': ['meu','teu', 'seu', 'nosso']}},\n",
        "           {'POS': 'DET', 'MORPH':{'IS_SUPERSET': ['PronType=Prs']}},\n",
        "           {'POS': 'NOUN'}]\n",
        "  matcher.add('detso', [detso])\n",
        "  detrex = matcher(doc, as_spans=True)\n",
        "  matches = matcher(doc)\n",
        "\n",
        "  match = Printer()\n",
        "  for match_id, start, end in matches:\n",
        "    ocorrencia = doc[start:end]\n",
        "    contexto = doc[start-20:end+20]\n",
        "    contexto_parte1 = doc[start-20:start]\n",
        "    contexto_parte2 = doc[end: end+20]\n",
        "    linhas.append ([numero_ent, contexto_parte1, ocorrencia,contexto_parte2, contexto])\n",
        "\n",
        "dataframe = pd.DataFrame(linhas, columns = colunas)\n",
        "dataframe.to_excel(\"det2020.xlsx\")"
      ]
    },
    {
      "cell_type": "markdown",
      "metadata": {
        "id": "vPOu_ls22p6Z"
      },
      "source": [
        "## 5.2 Pronomes pessoais de 2PS"
      ]
    },
    {
      "cell_type": "code",
      "execution_count": null,
      "metadata": {
        "id": "-Zcvbt2q2tsr",
        "colab": {
          "base_uri": "https://localhost:8080/"
        },
        "outputId": "85607093-dc33-40d8-db20-d1c9f2651503"
      },
      "outputs": [
        {
          "output_type": "stream",
          "name": "stderr",
          "text": [
            "/usr/local/lib/python3.10/dist-packages/pandas/util/_decorators.py:211: FutureWarning: the 'encoding' keyword is deprecated and will be removed in a future version. Please take steps to stop the use of 'encoding'\n",
            "  return func(*args, **kwargs)\n"
          ]
        }
      ],
      "source": [
        "import spacy\n",
        "from spacy.matcher import Matcher\n",
        "from wasabi import Printer\n",
        "import pandas as pd\n",
        "\n",
        "colunas = ['Numero_ent', 'Contexto anterior', 'Ocorrencia','Contexto Seguinte', 'Contexto']\n",
        "linhas = []\n",
        "\n",
        "nlp = spacy.load('pt_core_news_lg')\n",
        "\n",
        "nomes_arq = !ls '/content/drive/MyDrive/Deslocamentos2020'\n",
        "\n",
        "for nome in nomes_arq:\n",
        "  nome_refatorado = nome.replace(\"'\", \"\").strip()\n",
        "  arq =f'/content/drive/MyDrive/Deslocamentos2020/{nome_refatorado}'\n",
        "  corpus = open(arq).read()\n",
        "  doc = nlp(corpus)\n",
        "  numero_ent = extrai_num_ent(nome)\n",
        "  matcher = Matcher(vocab=nlp.vocab)\n",
        "  detso = [{'ORTH': {'IN': ['você', 'cê', 'tu']}}, {'POS': 'VERB', 'MORPH': {'IS_SUPERSET': ['VerbForm=Fin']}}]\n",
        "  inte = [{'ORTH': {'IN': ['você', 'cê', 'tu']}}, {}, {'POS': 'VERB', 'MORPH': {'IS_SUPERSET': ['VerbForm=Fin']}}] # com material interveniente\n",
        "\n",
        "  matcher.add('detso', [detso])\n",
        "  matcher.add('inte', [inte])\n",
        "  detrex = matcher(doc, as_spans=True)\n",
        "  matches = matcher(doc)\n",
        "  match = Printer()\n",
        "  for match_id, start, end in matches:\n",
        "        ocorrencia = doc[start:end]\n",
        "        contexto = doc[start-20:end+20]\n",
        "        contexto_parte1 = doc[start-20:start]\n",
        "        contexto_parte2 = doc[end: end+20]\n",
        "        linhas.append ([numero_ent, contexto_parte1, ocorrencia,contexto_parte2, contexto])\n",
        "\n",
        "dataframe = pd.DataFrame(linhas, columns = colunas)\n",
        "dataframe.to_excel(\"pro2020.xlsx\")"
      ]
    },
    {
      "cell_type": "markdown",
      "metadata": {
        "id": "gqj3Akdo6xzS"
      },
      "source": [
        "## 5.3 Clíticos de 2PS"
      ]
    },
    {
      "cell_type": "code",
      "execution_count": null,
      "metadata": {
        "id": "ui4pl-Og6wXv",
        "colab": {
          "base_uri": "https://localhost:8080/"
        },
        "outputId": "fa27f0f2-1d0e-4391-f3bb-6c910b3c71cf"
      },
      "outputs": [
        {
          "output_type": "stream",
          "name": "stderr",
          "text": [
            "/usr/local/lib/python3.10/dist-packages/pandas/util/_decorators.py:211: FutureWarning: the 'encoding' keyword is deprecated and will be removed in a future version. Please take steps to stop the use of 'encoding'\n",
            "  return func(*args, **kwargs)\n"
          ]
        }
      ],
      "source": [
        "import spacy\n",
        "from spacy.matcher import Matcher\n",
        "from wasabi import Printer\n",
        "import pandas as pd\n",
        "\n",
        "colunas = ['Numero_ent', 'Contexto anterior', 'Ocorrencia','Contexto Seguinte', 'Contexto']\n",
        "linhas = []\n",
        "\n",
        "nlp = spacy.load('pt_core_news_lg')\n",
        "\n",
        "nomes_arq = !ls '/content/drive/MyDrive/Deslocamentos2020'\n",
        "\n",
        "for nome in nomes_arq:\n",
        "  nome_refatorado = nome.replace(\"'\", \"\").strip()\n",
        "  arq =f'/content/drive/MyDrive/Deslocamentos2020/{nome_refatorado}'\n",
        "  corpus = open(arq).read()\n",
        "  doc = nlp(corpus)\n",
        "  numero_ent = extrai_num_ent(nome)\n",
        "  matcher = Matcher(vocab=nlp.vocab)\n",
        "  matcher = Matcher(vocab=nlp.vocab)\n",
        "  detso = [{'ORTH': {'IN': ['te', 'lhe']}}, {'POS': 'VERB'}]\n",
        "  clitc= [{'POS': 'VERB'}, {'ORTH': {'IN': ['te', 'lhe']}}]\n",
        "  encli= [{'POS': 'VERB'}, {'IS_PUNCT': True}, {'ORTH': {'IN': ['te', 'lhe']}}]\n",
        "\n",
        "  matcher.add('detso', [detso])\n",
        "  matcher.add('clitc', [clitc])\n",
        "  matcher.add('encli', [encli])\n",
        "  detrex = matcher(doc, as_spans=True)\n",
        "  matches = matcher(doc)\n",
        "  match = Printer()\n",
        "  for match_id, start, end in matches:\n",
        "        ocorrencia = doc[start:end]\n",
        "        contexto = doc[start-20:end+20]\n",
        "        contexto_parte1 = doc[start-20:start]\n",
        "        contexto_parte2 = doc[end: end+20]\n",
        "        linhas.append ([numero_ent, contexto_parte1, ocorrencia,contexto_parte2, contexto])\n",
        "\n",
        "dataframe = pd.DataFrame(linhas, columns = colunas)\n",
        "dataframe.to_excel(\"cli2020.xlsx\")"
      ]
    },
    {
      "cell_type": "markdown",
      "metadata": {
        "id": "7ecXiS-Z_MQM"
      },
      "source": [
        "## 5.4 Possessivos de 2PS"
      ]
    },
    {
      "cell_type": "code",
      "execution_count": null,
      "metadata": {
        "colab": {
          "base_uri": "https://localhost:8080/"
        },
        "id": "pEiaDT219Yit",
        "outputId": "da6a4c04-437c-4378-d237-18ae8ff35b53"
      },
      "outputs": [
        {
          "output_type": "stream",
          "name": "stderr",
          "text": [
            "/usr/local/lib/python3.10/dist-packages/pandas/util/_decorators.py:211: FutureWarning: the 'encoding' keyword is deprecated and will be removed in a future version. Please take steps to stop the use of 'encoding'\n",
            "  return func(*args, **kwargs)\n"
          ]
        }
      ],
      "source": [
        "import spacy\n",
        "from spacy.matcher import Matcher\n",
        "from wasabi import Printer\n",
        "import pandas as pd\n",
        "\n",
        "colunas = ['Numero_ent', 'Contexto anterior', 'Ocorrencia','Contexto Seguinte', 'Contexto']\n",
        "linhas = []\n",
        "\n",
        "nlp = spacy.load('pt_core_news_lg')\n",
        "\n",
        "nomes_arq = !ls '/content/drive/MyDrive/Deslocamentos2020'\n",
        "\n",
        "for nome in nomes_arq:\n",
        "  nome_refatorado = nome.replace(\"'\", \"\").strip()\n",
        "  arq =f'/content/drive/MyDrive/Deslocamentos2020/{nome_refatorado}'\n",
        "  corpus = open(arq).read()\n",
        "  doc = nlp(corpus)\n",
        "  numero_ent = extrai_num_ent(nome)\n",
        "\n",
        "  matcher = Matcher(vocab=nlp.vocab)\n",
        "  pre = [{\"TEXT\": {\"IN\":[\"seu\", \"sua\", \"seus\", \"suas\", \"teu\", \"tua\", \"teus\", \"tuas\"]}}, {\"POS\": \"NOUN\"}]\n",
        "  pos = [{\"POS\": \"NOUN\"}, {\"TEXT\": {\"IN\":[\"seu\", \"sua\", \"seus\", \"suas\", \"teu\", \"tua\", \"teus\", \"tuas\"]}}]\n",
        "\n",
        "  matcher.add('pre', [pre])\n",
        "  matcher.add('pos', [pos])\n",
        "  detrex = matcher(doc, as_spans=True)\n",
        "  matches = matcher(doc)\n",
        "  match = Printer()\n",
        "  for match_id, start, end in matches:\n",
        "    ocorrencia = doc[start:end]\n",
        "    contexto = doc[start-20:end+20]\n",
        "    contexto_parte1 = doc[start-20:start]\n",
        "    contexto_parte2 = doc[end: end+20]\n",
        "    linhas.append ([numero_ent, contexto_parte1, ocorrencia,contexto_parte2, contexto])\n",
        "\n",
        "dataframe = pd.DataFrame(linhas, columns = colunas)\n",
        "dataframe.to_excel(\"pos2020.xlsx\")"
      ]
    }
  ],
  "metadata": {
    "colab": {
      "provenance": []
    },
    "kernelspec": {
      "display_name": "Python 3",
      "name": "python3"
    },
    "language_info": {
      "name": "python"
    }
  },
  "nbformat": 4,
  "nbformat_minor": 0
}