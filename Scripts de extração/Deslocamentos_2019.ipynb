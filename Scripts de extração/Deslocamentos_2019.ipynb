{
  "cells": [
    {
      "cell_type": "markdown",
      "metadata": {
        "id": "Z2qIxtlC5V2r"
      },
      "source": [
        "# 1. Montar o Google Drive\n",
        "Neste momento, precisamos ligar o Drive ao Notebook, de modo com que possamos acessar os arquivos do Drive aqui. Ao executar a função, uma janela será aberta para que você acesse a conta Google na qual você está usando o Google Colab, que é a mesma a qual você utilizará o Drive."
      ]
    },
    {
      "cell_type": "code",
      "execution_count": null,
      "metadata": {
        "id": "YxbpvJPb4FdD"
      },
      "outputs": [],
      "source": [
        "from google.colab import drive\n",
        "drive.mount('/content/drive')"
      ]
    },
    {
      "cell_type": "markdown",
      "metadata": {
        "id": "1LmSRA1UjqAg"
      },
      "source": [
        "# 2. Instalar as bibliotecas\n",
        "Neste momento, são instaladas e importadas todas as bibliotecas e componentes necessários para funcionamento dos códigos."
      ]
    },
    {
      "cell_type": "code",
      "execution_count": null,
      "metadata": {
        "id": "o5FkjndkjsYN"
      },
      "outputs": [],
      "source": [
        "!pip install -U spacy\n",
        "\n",
        "!pip install -U spacy-lookups-data\n",
        "\n",
        "!python -m spacy download pt_core_news_lg\n",
        "\n",
        "!pip install pandas\n",
        "\n",
        "!pip install wasabi"
      ]
    },
    {
      "cell_type": "code",
      "execution_count": null,
      "metadata": {
        "id": "obP500rcr9dp"
      },
      "outputs": [],
      "source": [
        "import spacy\n",
        "nlp = spacy.load('pt_core_news_lg')"
      ]
    },
    {
      "cell_type": "markdown",
      "metadata": {
        "id": "1ygsElQJ5rmF"
      },
      "source": [
        "# 3. Carregar os arquivos .txt do Google Drive\n",
        "Para tanto, é necessário:\n",
        "- Criar uma pasta no Google Drive contendo os arquivos .txt que você deseja processar.\n",
        "- Determinar o caminho para a pasta no Google Drive. Por exemplo, se a pasta estiver localizada em \"Meu Drive/Minha Pasta\", o caminho será \"/content/drive/MyDrive/Minha Pasta\".\n",
        "- Execute o seguinte código para carregar os arquivos .txt."
      ]
    },
    {
      "cell_type": "code",
      "execution_count": null,
      "metadata": {
        "id": "FXV_yzJzUAej"
      },
      "outputs": [],
      "source": [
        "nomes_arq = !ls '/content/drive/MyDrive/Deslocamentos2019/'"
      ]
    },
    {
      "cell_type": "markdown",
      "metadata": {
        "id": "9ZQHYNtveZxB"
      },
      "source": [
        "# 4. Extração de informação dos arquivos\n",
        "O seguinte código é utilizado para a extração de informações presentes na própria entrevista, como nome do arquivo, que é o que desejamos, uma vez que o nome possui informações sobre o falante (gênero, idade, deslocamento e tempo no curso) e sobre a amostra (São Cristóvão 2019, São Cristóvão 2020 ou Itabaiana)."
      ]
    },
    {
      "cell_type": "markdown",
      "metadata": {
        "id": "75g1SGAKnBO0"
      },
      "source": [
        "Código para extrair informações dos nomes das entrevistas"
      ]
    },
    {
      "cell_type": "code",
      "execution_count": null,
      "metadata": {
        "id": "YCZenVZInJ82"
      },
      "outputs": [],
      "source": [
        "def extrai_num_ent(nome_arquivo):\n",
        "    num_ent = nome_arquivo[0:65]\n",
        "    return num_ent"
      ]
    },
    {
      "cell_type": "markdown",
      "metadata": {
        "id": "_rzRtV_5e7Kw"
      },
      "source": [
        "# 5. Extração dos fenômenos\n",
        "A partir daqui, lidamos com a extração das ocorrências dos fenômenos, cada um dos fenômenos isoladamente. Para tanto, esta seção apresenta:\n",
        "- Código de busca e classificação\n",
        "- Armazenamento dos resultados em arquivo .xlsx"
      ]
    },
    {
      "cell_type": "markdown",
      "metadata": {
        "id": "8DX_AjPE2VCO"
      },
      "source": [
        "## 5.1 Determinantes possessivos antecedendo nomes"
      ]
    },
    {
      "cell_type": "code",
      "execution_count": null,
      "metadata": {
        "id": "ysSAXqVEzRNd"
      },
      "outputs": [],
      "source": [
        "import spacy\n",
        "from spacy.matcher import Matcher\n",
        "from wasabi import Printer\n",
        "import pandas as pd\n",
        "\n",
        "colunas = ['Numero_ent', 'Contexto anterior', 'Ocorrencia','Contexto Seguinte', 'Contexto']\n",
        "linhas = []\n",
        "\n",
        "nlp = spacy.load('pt_core_news_lg')\n",
        "\n",
        "nomes_arq = !ls '/content/drive/MyDrive/Deslocamentos2019'\n",
        "\n",
        "for nome in nomes_arq:\n",
        "  nome_refatorado = nome.replace(\"'\", \"\").strip()\n",
        "  arq =f'/content/drive/MyDrive/Deslocamentos2019/{nome_refatorado}'\n",
        "  corpus = open(arq).read()\n",
        "  doc = nlp(corpus)\n",
        "  numero_ent = extrai_num_ent(nome)\n",
        "\n",
        "  matcher = Matcher(vocab=nlp.vocab)\n",
        "  detso = [{'LEMMA': {'NOT_IN': ['meu','teu', 'seu', 'nosso']}},\n",
        "           {'POS': 'DET', 'MORPH':{'IS_SUPERSET': ['PronType=Prs']}},\n",
        "           {'POS': 'NOUN'}]\n",
        "  matcher.add('detso', [detso])\n",
        "  detrex = matcher(doc, as_spans=True)\n",
        "  matches = matcher(doc)\n",
        "\n",
        "  match = Printer()\n",
        "  for match_id, start, end in matches:\n",
        "    ocorrencia = doc[start:end]\n",
        "    contexto = doc[start-20:end+20]\n",
        "    contexto_parte1 = doc[start-20:start]\n",
        "    contexto_parte2 = doc[end: end+20]\n",
        "    linhas.append ([numero_ent, contexto_parte1, ocorrencia,contexto_parte2, contexto])\n",
        "\n",
        "dataframe = pd.DataFrame(linhas, columns = colunas)\n",
        "dataframe.to_excel(\"det2019.xlsx\")"
      ]
    },
    {
      "cell_type": "markdown",
      "metadata": {
        "id": "vPOu_ls22p6Z"
      },
      "source": [
        "## 5.2 Pronomes pessoais de 2PS"
      ]
    },
    {
      "cell_type": "code",
      "execution_count": null,
      "metadata": {
        "id": "-Zcvbt2q2tsr"
      },
      "outputs": [],
      "source": [
        "import spacy\n",
        "from spacy.matcher import Matcher\n",
        "from wasabi import Printer\n",
        "import pandas as pd\n",
        "\n",
        "colunas = ['Numero_ent', 'Contexto anterior', 'Ocorrencia','Contexto Seguinte', 'Contexto']\n",
        "linhas = []\n",
        "\n",
        "nlp = spacy.load('pt_core_news_lg')\n",
        "\n",
        "nomes_arq = !ls '/content/drive/MyDrive/Deslocamentos2019'\n",
        "\n",
        "for nome in nomes_arq:\n",
        "  nome_refatorado = nome.replace(\"'\", \"\").strip()\n",
        "  arq =f'/content/drive/MyDrive/Deslocamentos2019/{nome_refatorado}'\n",
        "  corpus = open(arq).read()\n",
        "  doc = nlp(corpus)\n",
        "  numero_ent = extrai_num_ent(nome)\n",
        "  matcher = Matcher(vocab=nlp.vocab)\n",
        "  detso = [{'ORTH': {'IN': ['você', 'cê', 'tu']}}, {'POS': 'VERB', 'MORPH': {'IS_SUPERSET': ['VerbForm=Fin']}}]\n",
        "  inte = [{'ORTH': {'IN': ['você', 'cê', 'tu']}}, {}, {'POS': 'VERB', 'MORPH': {'IS_SUPERSET': ['VerbForm=Fin']}}] # com material interveniente\n",
        "\n",
        "  matcher.add('detso', [detso])\n",
        "  matcher.add('inte', [inte])\n",
        "  detrex = matcher(doc, as_spans=True)\n",
        "  matches = matcher(doc)\n",
        "  match = Printer()\n",
        "  for match_id, start, end in matches:\n",
        "        ocorrencia = doc[start:end]\n",
        "        contexto = doc[start-20:end+20]\n",
        "        contexto_parte1 = doc[start-20:start]\n",
        "        contexto_parte2 = doc[end: end+20]\n",
        "        linhas.append ([numero_ent, contexto_parte1, ocorrencia,contexto_parte2, contexto])\n",
        "\n",
        "dataframe = pd.DataFrame(linhas, columns = colunas)\n",
        "dataframe.to_excel(\"pro2019.xlsx\")"
      ]
    },
    {
      "cell_type": "markdown",
      "metadata": {
        "id": "gqj3Akdo6xzS"
      },
      "source": [
        "## 5.3 Clíticos de 2PS"
      ]
    },
    {
      "cell_type": "code",
      "execution_count": null,
      "metadata": {
        "colab": {
          "background_save": true
        },
        "id": "ui4pl-Og6wXv"
      },
      "outputs": [],
      "source": [
        "import spacy\n",
        "from spacy.matcher import Matcher\n",
        "from wasabi import Printer\n",
        "import pandas as pd\n",
        "\n",
        "colunas = ['Numero_ent', 'Contexto anterior', 'Ocorrencia','Contexto Seguinte', 'Contexto']\n",
        "linhas = []\n",
        "\n",
        "nlp = spacy.load('pt_core_news_lg')\n",
        "\n",
        "nomes_arq = !ls '/content/drive/MyDrive/Deslocamentos2019'\n",
        "\n",
        "for nome in nomes_arq:\n",
        "  nome_refatorado = nome.replace(\"'\", \"\").strip()\n",
        "  arq =f'/content/drive/MyDrive/Deslocamentos2019/{nome_refatorado}'\n",
        "  corpus = open(arq).read()\n",
        "  doc = nlp(corpus)\n",
        "  numero_ent = extrai_num_ent(nome)\n",
        "  matcher = Matcher(vocab=nlp.vocab)\n",
        "  matcher = Matcher(vocab=nlp.vocab)\n",
        "  detso = [{'ORTH': {'IN': ['te', 'lhe']}}, {'POS': 'VERB'}]\n",
        "  clitc= [{'POS': 'VERB'}, {'ORTH': {'IN': ['te', 'lhe']}}]\n",
        "  encli= [{'POS': 'VERB'}, {'IS_PUNCT': True}, {'ORTH': {'IN': ['te', 'lhe']}}]\n",
        "\n",
        "  matcher.add('detso', [detso])\n",
        "  matcher.add('clitc', [clitc])\n",
        "  matcher.add('encli', [encli])\n",
        "  detrex = matcher(doc, as_spans=True)\n",
        "  matches = matcher(doc)\n",
        "  match = Printer()\n",
        "  for match_id, start, end in matches:\n",
        "        ocorrencia = doc[start:end]\n",
        "        contexto = doc[start-20:end+20]\n",
        "        contexto_parte1 = doc[start-20:start]\n",
        "        contexto_parte2 = doc[end: end+20]\n",
        "        linhas.append ([numero_ent, contexto_parte1, ocorrencia,contexto_parte2, contexto])\n",
        "\n",
        "dataframe = pd.DataFrame(linhas, columns = colunas)\n",
        "dataframe.to_excel(\"cli2019.xlsx\")"
      ]
    },
    {
      "cell_type": "markdown",
      "metadata": {
        "id": "7ecXiS-Z_MQM"
      },
      "source": [
        "## 5.4 Possessivos de 2PS"
      ]
    },
    {
      "cell_type": "code",
      "execution_count": null,
      "metadata": {
        "colab": {
          "background_save": true
        },
        "id": "pEiaDT219Yit"
      },
      "outputs": [],
      "source": [
        "import spacy\n",
        "from spacy.matcher import Matcher\n",
        "from wasabi import Printer\n",
        "import pandas as pd\n",
        "\n",
        "colunas = ['Numero_ent', 'Contexto anterior', 'Ocorrencia','Contexto Seguinte', 'Contexto']\n",
        "linhas = []\n",
        "\n",
        "nlp = spacy.load('pt_core_news_lg')\n",
        "\n",
        "nomes_arq = !ls '/content/drive/MyDrive/Deslocamentos2019'\n",
        "\n",
        "for nome in nomes_arq:\n",
        "  nome_refatorado = nome.replace(\"'\", \"\").strip()\n",
        "  arq =f'/content/drive/MyDrive/Deslocamentos2019/{nome_refatorado}'\n",
        "  corpus = open(arq).read()\n",
        "  doc = nlp(corpus)\n",
        "  numero_ent = extrai_num_ent(nome)\n",
        "\n",
        "  matcher = Matcher(vocab=nlp.vocab)\n",
        "  pre = [{\"TEXT\": {\"IN\":[\"seu\", \"sua\", \"seus\", \"suas\", \"teu\", \"tua\", \"teus\", \"tuas\"]}}, {\"POS\": \"NOUN\"}]\n",
        "  pos = [{\"POS\": \"NOUN\"}, {\"TEXT\": {\"IN\":[\"seu\", \"sua\", \"seus\", \"suas\", \"teu\", \"tua\", \"teus\", \"tuas\"]}}]\n",
        "\n",
        "  matcher.add('pre', [pre])\n",
        "  matcher.add('pos', [pos])\n",
        "  detrex = matcher(doc, as_spans=True)\n",
        "  matches = matcher(doc)\n",
        "  match = Printer()\n",
        "  for match_id, start, end in matches:\n",
        "    ocorrencia = doc[start:end]\n",
        "    contexto = doc[start-20:end+20]\n",
        "    contexto_parte1 = doc[start-20:start]\n",
        "    contexto_parte2 = doc[end: end+20]\n",
        "    linhas.append ([numero_ent, contexto_parte1, ocorrencia,contexto_parte2, contexto])\n",
        "\n",
        "dataframe = pd.DataFrame(linhas, columns = colunas)\n",
        "dataframe.to_excel(\"pos2019.xlsx\")"
      ]
    }
  ],
  "metadata": {
    "colab": {
      "provenance": []
    },
    "kernelspec": {
      "display_name": "Python 3",
      "name": "python3"
    },
    "language_info": {
      "name": "python"
    }
  },
  "nbformat": 4,
  "nbformat_minor": 0
}